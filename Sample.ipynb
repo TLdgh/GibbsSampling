{
 "cells": [
  {
   "cell_type": "code",
   "execution_count": 5,
   "metadata": {},
   "outputs": [
    {
     "name": "stdout",
     "output_type": "stream",
     "text": [
      "ictmqetqthlixsctynfataqdtiktqvliftqkatcsztyfny etmzlztecli ikxtcsilczzktmikecnkteoicstsietysiktkuppfzatikcntsiethlzqectiktqktzjjnlctcntzeyqvztcsztgifztmikatefivvzatruiy fdtcslnuxstcsztxfqeetannletnjtgiycnldtoqkeinketcsnuxstknctruiy fdtzknuxstcntvlzgzkctqtemilftnjtxliccdtauectjlnotzkczlikxtqfnkxtmicstsiotcsztsqffmqdteozfctnjthnifzatyqhhqxztqkatnfatlqxtoqcetqctnkztzkatnjtictqtynfnulzatvneczltcnntfqlxztjnltikannltaievfqdtsqathzzktcqy zatcntcsztmqfftictazviyczateiovfdtqktzknlonuetjqyztonlztcsqktqtozclztmiazx\n",
      "it has a wlifrt meud dag in abliu and tro muemps holo stlipinf triltoon hinsten scitr ris mrin nyzzuod inte ris wloast in an ovvelt te osmabo tro kiuo hind suibbod xyimpug trleyfr tro fuass deels ev kimtelg cansiens treyfr net xyimpug oneyfr te blokont a shilu ev flittg dyst vlec ontolinf auenf hitr ric tro rauuhag scout ev weiuod mawwafo and eud laf cats at eno ond ev it a meueylod bestol tee ualfo vel indeel disbuag rad woon tampod te tro hauu it dobimtod sicbug an onelceys vamo celo tran a cotlo hidof\n",
      "it was a brikht cold day in april and the clocus were striuink thirteen winston smith his chin nvzzled into his breast in an effort to escape the gile wind slipped xviculy throvkh the klass doors of gictory mansions thovkh not xviculy enovkh to pregent a swirl of kritty dvst from enterink alonk with him the hallway smelt of boiled cabbake and old rak mats at one end of it a colovred poster too larke for indoor display had been tacued to the wall it depicted simply an enormovs face more than a metre widek\n",
      "it was a bright cold day in april and the clocus were striuing thirteen winston smith his chin nvzzled into his breast in an effort to escape the kile wind slipped xviculy throvgh the glass doors of kictory mansions thovgh not xviculy enovgh to prekent a swirl of gritty dvst from entering along with him the hallway smelt of boiled cabbage and old rag mats at one end of it a colovred poster too large for indoor display had been tacued to the wall it depicted simply an enormovs face more than a metre wideg\n",
      "it was a bright cold day in april and the clocus were striuing thirteen winston smith his chin nvzzled into his breast in an effort to escape the kile wind slipped xviculy throvgh the glass doors of kictory mansions thovgh not xviculy enovgh to prekent a swirl of gritty dvst from entering along with him the hallway smelt of boiled cabbage and old rag mats at one end of it a colovred poster too large for indoor display had been tacued to the wall it depicted simply an enormovs face more than a metre wideg\n",
      "it was a bright cold day in april and the clocus were striuing thirteen winston smith his chin nvzzled into his breast in an effort to escape the kile wind slipped xviculy throvgh the glass doors of kictory mansions thovgh not xviculy enovgh to prekent a swirl of gritty dvst from entering along with him the hallway smelt of boiled cabbage and old rag mats at one end of it a colovred poster too large for indoor display had been tacued to the wall it depicted simply an enormovs face more than a metre wideg\n",
      "it was a bright cold day in april and the clocus were striuing thirteen winston smith his chin nvzzled into his breast in an effort to escape the kile wind slipped xviculy throvgh the glass doors of kictory mansions thovgh not xviculy enovgh to prekent a swirl of gritty dvst from entering along with him the hallway smelt of boiled cabbage and old rag mats at one end of it a colovred poster too large for indoor display had been tacued to the wall it depicted simply an enormovs face more than a metre wideg\n",
      "it was a bright cold day in april and the clocus were striuing thirteen winston smith his chin nvzzled into his breast in an effort to escape the kile wind slipped xviculy throvgh the glass doors of kictory mansions thovgh not xviculy enovgh to prekent a swirl of gritty dvst from entering along with him the hallway smelt of boiled cabbage and old rag mats at one end of it a colovred poster too large for indoor display had been tacued to the wall it depicted simply an enormovs face more than a metre wideg\n",
      "it was a bright cold day in april and the clocus were striuing thirteen winston smith his chin nvzzled into his breast in an effort to escape the kile wind slipped xviculy throvgh the glass doors of kictory mansions thovgh not xviculy enovgh to prekent a swirl of gritty dvst from entering along with him the hallway smelt of boiled cabbage and old rag mats at one end of it a colovred poster too large for indoor display had been tacued to the wall it depicted simply an enormovs face more than a metre wideg\n",
      "it was a bright cold day in april and the clocus were striuing thirteen winston smith his chin nvzzled into his breast in an effort to escape the kile wind slipped xviculy throvgh the glass doors of kictory mansions thovgh not xviculy enovgh to prekent a swirl of gritty dvst from entering along with him the hallway smelt of boiled cabbage and old rag mats at one end of it a colovred poster too large for indoor display had been tacued to the wall it depicted simply an enormovs face more than a metre wideg\n"
     ]
    },
    {
     "data": {
      "text/plain": [
       "<CyphorDecoding.DecodeMessage at 0x7f8944f0f490>"
      ]
     },
     "execution_count": 5,
     "metadata": {},
     "output_type": "execute_result"
    }
   ],
   "source": [
    "from CyphorDecoding import DecodeMessage \n",
    "import numpy as np\n",
    "\n",
    "message=\"qaljoylolinq zalgpuvlvomlqcloxnqulocvlaztlgupgkyljtntlyanqkqc lazqnattcljqcyapclyrqazlzqylgzqclcbhhutvlqcaplzqylintoyalqcloclteepnalapltygoxtlaztlsqutljqcvlyuqxxtvldbqgkumlaznpb zlaztl uoyylvppnylpelsqgapnmlrocyqpcylazpb zlcpaldbqgkumltcpb zlaplxntstcalolyjqnulpel nqaamlvbyalenprltcatnqc loupc ljqazlzqrlaztlzouujomlyrtualpelipqutvlgoiio tlocvlpuvlno lroayloalpctltcvlpelqalolgpupbntvlxpyatnlappluon tlepnlqcvppnlvqyxuomlzovlittclaogktvlaplaztljouulqalvtxqgatvlyqrxumlocltcpnrpbyleogtlrpntlazoclolrtantljqvt \"\n",
    "M_big=np.loadtxt('M_big.csv', delimiter=',',skiprows=1, usecols=list(range(1,28,1)))\n",
    "DecodeMessage(message, M_big, niter=10000)"
   ]
  }
 ],
 "metadata": {
  "kernelspec": {
   "display_name": "GibbsVenv",
   "language": "python",
   "name": "python3"
  },
  "language_info": {
   "codemirror_mode": {
    "name": "ipython",
    "version": 3
   },
   "file_extension": ".py",
   "mimetype": "text/x-python",
   "name": "python",
   "nbconvert_exporter": "python",
   "pygments_lexer": "ipython3",
   "version": "3.10.9"
  }
 },
 "nbformat": 4,
 "nbformat_minor": 2
}
